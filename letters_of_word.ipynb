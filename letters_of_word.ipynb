{
 "cells": [
  {
   "cell_type": "code",
   "execution_count": 11,
   "metadata": {},
   "outputs": [
    {
     "name": "stdout",
     "output_type": "stream",
     "text": [
      "enter a word: HelloWorld\n",
      "\n",
      "H\n",
      "He\n",
      "Hel\n",
      "Hell\n",
      "Hello\n",
      "HelloW\n",
      "HelloWo\n",
      "HelloWor\n",
      "HelloWorl\n",
      "HelloWorld\n"
     ]
    }
   ],
   "source": [
    "#Python 3 code to demonstrate number pattern\n",
    "#Let's define a function\n",
    "\n",
    "def letters_of_words():\n",
    "    \n",
    "    #Next enter any word\n",
    "    s=input('enter a word: ')\n",
    "    \n",
    "    #outer loop to handle number of rows\n",
    "    for r in range(len(s)+1):\n",
    "            \n",
    "        #inner nested loop to handle number of columns which is changing according to outer loop\n",
    "        for c in range(0,r):\n",
    "        \n",
    "            #print the letters of the given word in the c-th position of the r-th row\n",
    "            print(s[c],end=\"\")\n",
    "        \n",
    "        #shifting to next row\n",
    "        print()\n",
    " #calling the function\n",
    "letters_of_words()"
   ]
  },
  {
   "cell_type": "code",
   "execution_count": 12,
   "metadata": {},
   "outputs": [
    {
     "name": "stdout",
     "output_type": "stream",
     "text": [
      "enter a word: Python\n",
      "\n",
      "P\n",
      "Py\n",
      "Pyt\n",
      "Pyth\n",
      "Pytho\n",
      "Python\n"
     ]
    }
   ],
   "source": [
    "letters_of_words()"
   ]
  },
  {
   "cell_type": "code",
   "execution_count": 13,
   "metadata": {},
   "outputs": [
    {
     "name": "stdout",
     "output_type": "stream",
     "text": [
      "enter a word: ILovePython\n",
      "\n",
      "I\n",
      "IL\n",
      "ILo\n",
      "ILov\n",
      "ILove\n",
      "ILoveP\n",
      "ILovePy\n",
      "ILovePyt\n",
      "ILovePyth\n",
      "ILovePytho\n",
      "ILovePython\n"
     ]
    }
   ],
   "source": [
    "letters_of_words()"
   ]
  },
  {
   "cell_type": "code",
   "execution_count": null,
   "metadata": {},
   "outputs": [],
   "source": []
  }
 ],
 "metadata": {
  "kernelspec": {
   "display_name": "Python 3",
   "language": "python",
   "name": "python3"
  },
  "language_info": {
   "codemirror_mode": {
    "name": "ipython",
    "version": 3
   },
   "file_extension": ".py",
   "mimetype": "text/x-python",
   "name": "python",
   "nbconvert_exporter": "python",
   "pygments_lexer": "ipython3",
   "version": "3.6.5"
  }
 },
 "nbformat": 4,
 "nbformat_minor": 2
}
