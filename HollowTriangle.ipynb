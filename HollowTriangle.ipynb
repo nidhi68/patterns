{
 "cells": [
  {
   "cell_type": "code",
   "execution_count": 1,
   "metadata": {},
   "outputs": [
    {
     "name": "stdout",
     "output_type": "stream",
     "text": [
      "enter a number of rows: 6\n",
      "     *     \n",
      "    * *    \n",
      "   *   *   \n",
      "  *     *  \n",
      " *       * \n",
      "* * * * * *\n"
     ]
    }
   ],
   "source": [
    "# Python 3 code to demonstrate hollow triangle shaped star pattern\n",
    "# first enter an integer\n",
    "n=int(input('enter a number of rows: '))\n\n",
    "# blank position of the last row\n",
    "k=2\n\n",
    "# outer loop to handle the number of rows\n",
    "for row in range(1,n+1):\n\n",
    "# inner nested loop to handle number of columns which is changing according to outer loop\n",
    "    for col in range(1,2*n):\n\n",
    "# printing the left or right part of the triangle\n",
    "        if row+col==n+1 or col-row==n-1: \n",
    "            print('*',end='')\n\n",
    "# printing the base of the triangle\n",
    "        elif row==n and col!=k:\n",
    "                print('*',end='')\n",
    "                k=k+2\n\n",
    "# printing the blank blank space\n",
    "        else:\n",
    "            print(end=' ')\n\n",
    "# shifting to next row\n",
    "    print()"
   ]
  },
  {
   "cell_type": "code",
   "execution_count": null,
   "metadata": {},
   "outputs": [],
   "source": []
  }
 ],
 "metadata": {
  "kernelspec": {
   "display_name": "Python 3",
   "language": "python",
   "name": "python3"
  },
  "language_info": {
   "codemirror_mode": {
    "name": "ipython",
    "version": 3
   },
   "file_extension": ".py",
   "mimetype": "text/x-python",
   "name": "python",
   "nbconvert_exporter": "python",
   "pygments_lexer": "ipython3",
   "version": "3.6.5"
  }
 },
 "nbformat": 4,
 "nbformat_minor": 2
}
