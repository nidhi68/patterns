{
 "cells": [
  {
   "cell_type": "code",
   "execution_count": 10,
   "metadata": {},
   "outputs": [
    {
     "name": "stdout",
     "output_type": "stream",
     "text": [
      "enter a number: 10\n",
      "         * \n",
      "        * * \n",
      "       * * * \n",
      "      * * * * \n",
      "     * * * * * \n",
      "    * * * * * * \n",
      "   * * * * * * * \n",
      "  * * * * * * * * \n",
      " * * * * * * * * * \n",
      "* * * * * * * * * * \n"
     ]
    }
   ],
   "source": [
    "#Python 3 code to demonstrate star pattern pyramid\n",
    "\n",
    "#First enter the number of rows\n",
    "n=int(input('enter a number: '))\n",
    "\n",
    "#outer loop to handle number of rows\n",
    "for r in range(0,n):\n",
    "    \n",
    "    #inner nested loop to handle number of columns which is changing according to outer loop\n",
    "    #inner loop to print the blank spaces\n",
    "    for c in range(0,n-r-1):\n",
    "        print(\" \",end=\"\")\n",
    "    \n",
    "    #inner loop to print stars\n",
    "    for c in range(0,r+1):\n",
    "        print('*',end=\" \")\n",
    "    \n",
    "    #shifting to next row\n",
    "    print()"
   ]
  },
  {
   "cell_type": "code",
   "execution_count": 11,
   "metadata": {},
   "outputs": [
    {
     "name": "stdout",
     "output_type": "stream",
     "text": [
      "enter a number: 10\n",
      "         *\n",
      "        ***\n",
      "       *****\n",
      "      *******\n",
      "     *********\n",
      "    ***********\n",
      "   *************\n",
      "  ***************\n",
      " *****************\n",
      "*******************\n"
     ]
    }
   ],
   "source": [
    "#Python 3 code to demonstrate another star pattern pyramid\n",
    "\n",
    "#First enter the number of rows\n",
    "n=int(input('enter a number: '))\n",
    "\n",
    "#outer loop to handle number of rows\n",
    "for r in range(0,n):\n",
    "    \n",
    "    #inner nested loop to handle number of columns which is changing according to outer loop\n",
    "    #inner loop to print the blank spaces\n",
    "    for c in range(0,n-r-1):\n",
    "        print(\" \",end=\"\")\n",
    "    \n",
    "    #inner loop to print stars\n",
    "    for c in range(0,2*r+1):\n",
    "        print('*',end=\"\")\n",
    "    \n",
    "    #shifting to next row\n",
    "    print()"
   ]
  },
  {
   "cell_type": "code",
   "execution_count": 13,
   "metadata": {},
   "outputs": [
    {
     "name": "stdout",
     "output_type": "stream",
     "text": [
      "enter a number: 10\n",
      "* * * * * * * * * * \n",
      " * * * * * * * * * \n",
      "  * * * * * * * * \n",
      "   * * * * * * * \n",
      "    * * * * * * \n",
      "     * * * * * \n",
      "      * * * * \n",
      "       * * * \n",
      "        * * \n",
      "         * \n"
     ]
    }
   ],
   "source": [
    "#Python 3 code to demonstrate star pattern reverse pyramid\n",
    "\n",
    "#First enter the number of rows\n",
    "n=int(input('enter a number: '))\n",
    "\n",
    "#outer loop to handle number of rows\n",
    "for r in range(n,0,-1):\n",
    "    \n",
    "    #inner nested loop to handle number of columns which is changing according to outer loop\n",
    "    #inner loop to print the blank spaces\n",
    "    for c in range(0,n-r):\n",
    "        print(\" \",end=\"\")\n",
    "    \n",
    "    #inner loop to print stars\n",
    "    for c in range(0,r):\n",
    "        print('*',end=\" \")\n",
    "    \n",
    "    #shifting to next row\n",
    "    print()"
   ]
  },
  {
   "cell_type": "code",
   "execution_count": 15,
   "metadata": {},
   "outputs": [
    {
     "name": "stdout",
     "output_type": "stream",
     "text": [
      "enter a number: 10\n",
      "*******************\n",
      " *****************\n",
      "  ***************\n",
      "   *************\n",
      "    ***********\n",
      "     *********\n",
      "      *******\n",
      "       *****\n",
      "        ***\n",
      "         *\n"
     ]
    }
   ],
   "source": [
    "#Python 3 code to demonstrate another star pattern reverse pyramid\n",
    "\n",
    "#First enter the number of rows\n",
    "n=int(input('enter a number: '))\n",
    "\n",
    "#outer loop to handle number of rows\n",
    "for r in range(n,0,-1):\n",
    "    \n",
    "    #inner nested loop to handle number of columns which is changing according to outer loop\n",
    "    #inner loop to print the blank spaces\n",
    "    for c in range(0,n-r):\n",
    "        print(\" \",end=\"\")\n",
    "    \n",
    "    #inner loop to print stars\n",
    "    for c in range(0,2*r-1):\n",
    "        print('*',end=\"\")\n",
    "    \n",
    "    #shifting to next row\n",
    "    print()"
   ]
  },
  {
   "cell_type": "code",
   "execution_count": null,
   "metadata": {},
   "outputs": [],
   "source": []
  }
 ],
 "metadata": {
  "kernelspec": {
   "display_name": "Python 3",
   "language": "python",
   "name": "python3"
  },
  "language_info": {
   "codemirror_mode": {
    "name": "ipython",
    "version": 3
   },
   "file_extension": ".py",
   "mimetype": "text/x-python",
   "name": "python",
   "nbconvert_exporter": "python",
   "pygments_lexer": "ipython3",
   "version": "3.6.5"
  }
 },
 "nbformat": 4,
 "nbformat_minor": 2
}
