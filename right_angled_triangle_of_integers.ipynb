{
 "cells": [
  {
   "cell_type": "code",
   "execution_count": 3,
   "metadata": {},
   "outputs": [
    {
     "name": "stdout",
     "output_type": "stream",
     "text": [
      "1\n",
      "23\n",
      "456\n",
      "78910\n",
      "1112131415\n"
     ]
    }
   ],
   "source": [
    "#Python 3 code to demonstrate right_angled_triangle of integers\n",
    "#Let's define a function having attribute as the number of rows\n",
    "\n",
    "def right_angled_triangle(n):\n",
    "    \n",
    "    #initial value of i\n",
    "    i=1\n",
    "    \n",
    "    #outer loop to handle number of rows\n",
    "    for r in range(1,n+1):\n",
    "        \n",
    "        #inner nested loop to handle number of columns which is changing according to outer loop\n",
    "        for c in range(1,r+1):\n",
    "            \n",
    "            #print the value of i\n",
    "            print(i,end='')\n",
    "            \n",
    "            #increase the value of i by 1 in the next column\n",
    "            i+=1\n",
    "            \n",
    "        #shifting to next row\n",
    "        print()\n",
    "        \n",
    "#Number of rows        \n",
    "n=5\n",
    "\n",
    "#Calling the function\n",
    "right_angled_triangle(n)"
   ]
  },
  {
   "cell_type": "code",
   "execution_count": 2,
   "metadata": {},
   "outputs": [
    {
     "name": "stdout",
     "output_type": "stream",
     "text": [
      "0\n",
      "12\n",
      "345\n",
      "6789\n",
      "1011121314\n",
      "151617181920\n"
     ]
    }
   ],
   "source": [
    "right_angled_triangle(6)"
   ]
  },
  {
   "cell_type": "code",
   "execution_count": 4,
   "metadata": {},
   "outputs": [
    {
     "name": "stdout",
     "output_type": "stream",
     "text": [
      "1\n",
      "23\n",
      "456\n",
      "78910\n",
      "1112131415\n",
      "161718192021\n",
      "22232425262728\n",
      "2930313233343536\n",
      "373839404142434445\n",
      "46474849505152535455\n"
     ]
    }
   ],
   "source": [
    "right_angled_triangle(10)"
   ]
  },
  {
   "cell_type": "code",
   "execution_count": null,
   "metadata": {},
   "outputs": [],
   "source": []
  }
 ],
 "metadata": {
  "kernelspec": {
   "display_name": "Python 3",
   "language": "python",
   "name": "python3"
  },
  "language_info": {
   "codemirror_mode": {
    "name": "ipython",
    "version": 3
   },
   "file_extension": ".py",
   "mimetype": "text/x-python",
   "name": "python",
   "nbconvert_exporter": "python",
   "pygments_lexer": "ipython3",
   "version": "3.6.5"
  }
 },
 "nbformat": 4,
 "nbformat_minor": 2
}
