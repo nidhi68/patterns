{
 "cells": [
  {
   "cell_type": "code",
   "execution_count": 1,
   "metadata": {},
   "outputs": [
    {
     "name": "stdout",
     "output_type": "stream",
     "text": [
      "  * *   * *   \n",
      "*     *     * \n",
      "*           * \n",
      "  *       *   \n",
      "    *   *     \n",
      "      *       \n"
     ]
    }
   ],
   "source": [
    "# Python 3 code to demonstrate heart shaped star pattern\n",
    "# outer loop to handle number of rows\n",
    "for row in range(6):\n\n",
    "# inner nested loop to handle number of columns which is changing according to outer loop\n",
    "    for col in range(7):\n\n",
    "# printing first line of the heart\n",
    "        if row==0 and col%3!=0:\n",
    "            print('*',end=' ')\n\n",
    "# printing second line of the heart\n",
    "        elif row==1 and col%3==0:\n",
    "            print('*',end=' ')\n\n",
    "# printing the left part of the heart\n",
    "        elif row-col==2:\n",
    "            print('*',end=' ')\n\n",
    "# printing the right part of the heart\n",
    "        elif row+col==8:\n",
    "            print('*',end=' ')\n\n",
    "# printing the blank space
    "        else:\n",
    "            print(' ',end=' ')\n\n",
    "# shifting to next row
    "    print()\n",
    "    "
   ]
  },
  {
   "cell_type": "code",
   "execution_count": null,
   "metadata": {},
   "outputs": [],
   "source": []
  }
 ],
 "metadata": {
  "kernelspec": {
   "display_name": "Python 3",
   "language": "python",
   "name": "python3"
  },
  "language_info": {
   "codemirror_mode": {
    "name": "ipython",
    "version": 3
   },
   "file_extension": ".py",
   "mimetype": "text/x-python",
   "name": "python",
   "nbconvert_exporter": "python",
   "pygments_lexer": "ipython3",
   "version": "3.6.5"
  }
 },
 "nbformat": 4,
 "nbformat_minor": 2
}
