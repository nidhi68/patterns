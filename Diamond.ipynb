{
 "cells": [
  {
   "cell_type": "code",
   "execution_count": 22,
   "metadata": {},
   "outputs": [],
   "source": [
    "#Python 3 code to demonstrate star pattern diamond \n",
    "# Here we combine two pyramids to make a diamond\n",
    "\n",
    "#Let's define a function\n",
    "def diamond(rows):\n",
    "    \n",
    "    #print the upper part of the diamond or the upper pyramid\n",
    "    for i in range(rows):\n",
    "        print(' '*(rows-i-1)+'* '*(i+1))\n",
    "        \n",
    "    #print the lower part of the diamond or the lower pyramid\n",
    "    for j in range(rows-1,0,-1):\n",
    "        print(' '*(rows-j)+'* '*(j))\n",
    "        "
   ]
  },
  {
   "cell_type": "code",
   "execution_count": 23,
   "metadata": {},
   "outputs": [
    {
     "name": "stdout",
     "output_type": "stream",
     "text": [
      "         * \n",
      "        * * \n",
      "       * * * \n",
      "      * * * * \n",
      "     * * * * * \n",
      "    * * * * * * \n",
      "   * * * * * * * \n",
      "  * * * * * * * * \n",
      " * * * * * * * * * \n",
      "* * * * * * * * * * \n",
      " * * * * * * * * * \n",
      "  * * * * * * * * \n",
      "   * * * * * * * \n",
      "    * * * * * * \n",
      "     * * * * * \n",
      "      * * * * \n",
      "       * * * \n",
      "        * * \n",
      "         * \n"
     ]
    }
   ],
   "source": [
    "diamond(10)"
   ]
  },
  {
   "cell_type": "code",
   "execution_count": 26,
   "metadata": {},
   "outputs": [],
   "source": [
    "#Python 3 code to demonstrate another star pattern diamond \n",
    "# Here we combine two pyramids to make a diamond\n",
    "\n",
    "#Let's define a function\n",
    "def diamond(rows):\n",
    "    \n",
    "    #print the upper part of the diamond or the upper pyramid\n",
    "    for i in range(rows):\n",
    "        print(' '*(rows-i-1)+'*'*(2*i+1))\n",
    "        \n",
    "    #print the lower part of the diamond or the lower pyramid\n",
    "    for j in range(rows-1,0,-1):\n",
    "        print(' '*(rows-j)+'*'*(2*j-1))\n",
    "        "
   ]
  },
  {
   "cell_type": "code",
   "execution_count": 27,
   "metadata": {},
   "outputs": [
    {
     "name": "stdout",
     "output_type": "stream",
     "text": [
      "         *\n",
      "        ***\n",
      "       *****\n",
      "      *******\n",
      "     *********\n",
      "    ***********\n",
      "   *************\n",
      "  ***************\n",
      " *****************\n",
      "*******************\n",
      " *****************\n",
      "  ***************\n",
      "   *************\n",
      "    ***********\n",
      "     *********\n",
      "      *******\n",
      "       *****\n",
      "        ***\n",
      "         *\n"
     ]
    }
   ],
   "source": [
    "diamond(10)"
   ]
  },
  {
   "cell_type": "code",
   "execution_count": null,
   "metadata": {},
   "outputs": [],
   "source": []
  }
 ],
 "metadata": {
  "kernelspec": {
   "display_name": "Python 3",
   "language": "python",
   "name": "python3"
  },
  "language_info": {
   "codemirror_mode": {
    "name": "ipython",
    "version": 3
   },
   "file_extension": ".py",
   "mimetype": "text/x-python",
   "name": "python",
   "nbconvert_exporter": "python",
   "pygments_lexer": "ipython3",
   "version": "3.6.5"
  }
 },
 "nbformat": 4,
 "nbformat_minor": 2
}
