{
 "cells": [
  {
   "cell_type": "code",
   "execution_count": 1,
   "metadata": {},
   "outputs": [
    {
     "name": "stdout",
     "output_type": "stream",
     "text": [
      "enter a no: 12345\n",
      "15\n"
     ]
    }
   ],
   "source": [
    "# Python 3 code to sum the digits of the given number\n",
    "# first enter the required number\n",
    "n=int(input('enter a no: '))\n\n",
    "# Take the initial result as zero\n",
    "result=0\n\n",
    "# Next we take the while loop which stops when n becomes zero or negative\n",
    "while n>0:\n\n",
    "# Next we divide the given number by 10 and take the remainder as its unit's digit\n",
    "    digit=n%10\n\n",
    "# Then we add the digit to the result\n",
    "    result+=digit\n\n",
    "# Next we perform the floor division of n by 10 and take the output as new n and again we move to the first step of while loop\n",
    "    n=n//10\n\n",
    "# Finally we print the result\n",
    "print(result)\n",
    "    "
   ]
  },
  {
   "cell_type": "code",
   "execution_count": null,
   "metadata": {},
   "outputs": [],
   "source": []
  }
 ],
 "metadata": {
  "kernelspec": {
   "display_name": "Python 3",
   "language": "python",
   "name": "python3"
  },
  "language_info": {
   "codemirror_mode": {
    "name": "ipython",
    "version": 3
   },
   "file_extension": ".py",
   "mimetype": "text/x-python",
   "name": "python",
   "nbconvert_exporter": "python",
   "pygments_lexer": "ipython3",
   "version": "3.6.5"
  }
 },
 "nbformat": 4,
 "nbformat_minor": 2
}

