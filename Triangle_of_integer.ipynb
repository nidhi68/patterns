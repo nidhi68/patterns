{
 "cells": [
  {
   "cell_type": "code",
   "execution_count": 3,
   "metadata": {},
   "outputs": [
    {
     "name": "stdout",
     "output_type": "stream",
     "text": [
      "enter a no: 5\n",
      "     1\n",
      "    212\n",
      "   32123\n",
      "  4321234\n",
      " 543212345\n"
     ]
    }
   ],
   "source": [
    "n=int(input('enter a no: '))\n",
    "for r in range(1,n+1):\n",
    "    for c in range(n-r+1):\n",
    "        print(end=' ')\n",
    "    for c in range(r,0,-1):\n",
    "        print(c,end='')\n",
    "    for c in range(2,r+1):\n",
    "        print(c,end='')\n",
    "    print()"
   ]
  },
  {
   "cell_type": "code",
   "execution_count": null,
   "metadata": {},
   "outputs": [],
   "source": []
  }
 ],
 "metadata": {
  "kernelspec": {
   "display_name": "Python 3",
   "language": "python",
   "name": "python3"
  },
  "language_info": {
   "codemirror_mode": {
    "name": "ipython",
    "version": 3
   },
   "file_extension": ".py",
   "mimetype": "text/x-python",
   "name": "python",
   "nbconvert_exporter": "python",
   "pygments_lexer": "ipython3",
   "version": "3.6.5"
  }
 },
 "nbformat": 4,
 "nbformat_minor": 2
}
