{
 "cells": [
  {
   "cell_type": "code",
   "execution_count": 3,
   "metadata": {},
   "outputs": [
    {
     "name": "stdout",
     "output_type": "stream",
     "text": [
      "enter a no: 5\n",
      "     1\n",
      "    212\n",
      "   32123\n",
      "  4321234\n",
      " 543212345\n"
     ]
    }
   ],
   "source": [
    " #Python 3 code to print triangle of integers",
    "#first enter a number of rows of the triangle",
    "n=int(input('enter a no: '))\n",
    "#outer loop to handle number of rows",
    "for r in range(1,n+1):\n",
    "     #inner nested loop to handle number of columns which is changing according to outer loop",
    "    for c in range(n-r+1):\n",
    "        #printing null spaces of the triangle",
    "        print(end=' ')\n",
    "    for c in range(r,0,-1):\n",
    "        #printing the left part of the triangle",
    "        print(c,end='')\n",
    "    for c in range(2,r+1):\n",
    "        #printing the right part of the triangle",
    "        print(c,end='')\n",
    "#shifting to next row",
    "    print()"
   ]
  },
  {
   "cell_type": "code",
   "execution_count": null,
   "metadata": {},
   "outputs": [],
   "source": []
  }
 ],
 "metadata": {
  "kernelspec": {
   "display_name": "Python 3",
   "language": "python",
   "name": "python3"
  },
  "language_info": {
   "codemirror_mode": {
    "name": "ipython",
    "version": 3
   },
   "file_extension": ".py",
   "mimetype": "text/x-python",
   "name": "python",
   "nbconvert_exporter": "python",
   "pygments_lexer": "ipython3",
   "version": "3.6.5"
  }
 },
 "nbformat": 4,
 "nbformat_minor": 2
}
